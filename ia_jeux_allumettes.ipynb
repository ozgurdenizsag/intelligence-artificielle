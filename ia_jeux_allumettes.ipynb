{
 "cells": [
  {
   "cell_type": "code",
   "execution_count": 1,
   "metadata": {},
   "outputs": [],
   "source": [
    "import os \n",
    "from collections import deque\n",
    "etat_A=5\n",
    "etat_B=0\n",
    "capacite_A=5\n",
    "capacite_B=2\n",
    "contenu_attendu_dans_B=1\n",
    "\n",
    "def initial():\n",
    "    return (etat_A,etat_B) \n",
    "\n",
    "\n",
    "\n",
    "def final(etat):\n",
    "    (eA,eB)=etat\n",
    "    return eB == contenu_attendu_dans_B\n",
    "\n",
    "\n",
    "def actions():\n",
    "    return [jeterA,jeterB,viderAdansB,viderBdansA,remplirA,remplirB]\n",
    "\n",
    "def jeterA(etat):\n",
    "    (eA,eB)=etat\n",
    "    if ((eB==contenu_attendu_dans_B) or (eA == 0)):\n",
    "        return []\n",
    "    listSuiv=[]\n",
    "    listSuiv.append((0,eB))\n",
    "    return listSuiv\n",
    "\n",
    "def jeterB(etat):\n",
    "    (eA,eB)=etat\n",
    "    if ( (eB==contenu_attendu_dans_B) or (eB == 0) ):\n",
    "        return []\n",
    "    listSuiv=[]\n",
    "    listSuiv.append((eA,0))\n",
    "    return listSuiv\n",
    "\n",
    "def viderAdansB(etat):\n",
    "    (eA,eB)=etat\n",
    "    if ( (eB==contenu_attendu_dans_B) or (eA == 0) or (eB == capacite_B) ) :\n",
    "        return []\n",
    "    listSuiv=[]\n",
    "    total=eA+eB\n",
    "    if(total > capacite_B):\n",
    "        listSuiv.append((total-capacite_B,capacite_B))\n",
    "    else:\n",
    "        listSuiv.append((0,total))\n",
    "    return listSuiv\n",
    "\n",
    "def viderBdansA(etat):\n",
    "    (eA,eB)=etat\n",
    "    if ( (eB==contenu_attendu_dans_B) or (eB == 0) or (eA == capacite_A) ) :\n",
    "        return []\n",
    "    listSuiv=[]\n",
    "    total=eA+eB\n",
    "    if(total > capacite_A):\n",
    "        listSuiv.append((capacite_A,total-capacite_A))\n",
    "    else:\n",
    "        listSuiv.append((total,0))\n",
    "    return listSuiv\n",
    "\n",
    "def remplirA(etat):\n",
    "    (eA,eB)=etat\n",
    "    if ( (eB==contenu_attendu_dans_B) or (eA == capacite_A) ):\n",
    "        return []\n",
    "    listSuiv=[]\n",
    "    listSuiv.append((capacite_A,eB))\n",
    "    return listSuiv\n",
    "\n",
    "def remplirB(etat):\n",
    "    (eA,eB)=etat\n",
    "    if ( (eB==contenu_attendu_dans_B) or (eB == capacite_B) ) :\n",
    "        return []\n",
    "    listSuiv=[]\n",
    "    listSuiv.append((eA,capacite_B))\n",
    "    return listSuiv"
   ]
  },
  {
   "cell_type": "code",
   "execution_count": 2,
   "metadata": {},
   "outputs": [
    {
     "data": {
      "text/plain": [
       "[((0, 0), [((5, 0), [])]), ((3, 2), [((5, 0), [])]), ((5, 2), [((5, 0), [])])]"
      ]
     },
     "execution_count": 2,
     "metadata": {},
     "output_type": "execute_result"
    }
   ],
   "source": [
    "def getChemin(noeud):\n",
    "    return noeud[1]\n",
    "\n",
    "def getEtat(noeud):\n",
    "    return noeud[0]\n",
    "\n",
    "def dejavu(etat,chemin):\n",
    "    for noeud in chemin:\n",
    "        if etat==getEtat(noeud):\n",
    "            return True\n",
    "    return False\n",
    "\n",
    "def noeudFils(noeud):\n",
    "    listeFils=[]\n",
    "    etatCourant=getEtat(noeud)\n",
    "    cheminCourant=getChemin(noeud)\n",
    "    for action in actions():\n",
    "        listeEtatSuiv = action(etatCourant)\n",
    "        for etat in listeEtatSuiv:\n",
    "            if not dejavu(etat,cheminCourant):\n",
    "                chemin=list(cheminCourant)\n",
    "                chemin.append(noeud)\n",
    "                listeFils.append((etat,chemin))\n",
    "    return listeFils\n",
    "\n",
    "nd=noeudFils((initial(),[]))\n",
    "\n",
    "nd"
   ]
  },
  {
   "cell_type": "code",
   "execution_count": 3,
   "metadata": {
    "scrolled": true
   },
   "outputs": [],
   "source": [
    "def rp_rec(noeud):\n",
    "    if final(getEtat(noeud)):\n",
    "        return (True,noeud)\n",
    "    else:\n",
    "        listSuiv=noeudFils(noeud)\n",
    "        for suiv in listSuiv:\n",
    "            (x,y)=rp_rec(suiv)\n",
    "            if x:\n",
    "                return (x,y)\n",
    "    return (False,((-1,-1),[]))\n",
    "\n",
    "(x,y)=rp_rec((initial(),[]))"
   ]
  },
  {
   "cell_type": "code",
   "execution_count": 4,
   "metadata": {},
   "outputs": [
    {
     "name": "stdout",
     "output_type": "stream",
     "text": [
      "Solution :\n",
      "(5, 0)\n",
      "(0, 0)\n",
      "(0, 2)\n",
      "(2, 0)\n",
      "(2, 2)\n",
      "(4, 0)\n",
      "(4, 2)\n",
      "(5, 1)\n",
      "Longueur : 8\n"
     ]
    }
   ],
   "source": [
    "def afficher_sol(noeud):\n",
    "    print(\"Solution :\")\n",
    "    chemin=getChemin(noeud)\n",
    "    for i in chemin:\n",
    "        print(getEtat(i))\n",
    "    print(getEtat(noeud))\n",
    "    print(\"Longueur : \" + str(len(chemin)+1))\n",
    "        \n",
    "afficher_sol(y)"
   ]
  },
  {
   "cell_type": "code",
   "execution_count": 5,
   "metadata": {},
   "outputs": [],
   "source": [
    "def initial():\n",
    "    return (-1,-1,-1,1,-1,1) \n",
    "\n",
    "def final(etat):\n",
    "    for i in range(len(etat)):\n",
    "        if (etat[i] == -1):\n",
    "            return False\n",
    "    return True\n",
    "\n",
    "def actions():\n",
    "    return [retourner]\n",
    "\n",
    "def getCoutAction(e1,e2):\n",
    "    return 1\n",
    "\n",
    "def retourner(etat):\n",
    "    listeSuiv=[]\n",
    "    coutAction=1\n",
    "    for i in range(len(etat)-1):\n",
    "        etatFils = list(etat)\n",
    "        etatFils[i] = etatFils[i]*(-1)\n",
    "        etatFils[i+1] = etatFils[i+1]*(-1)\n",
    "        listeSuiv.append(tuple(etatFils))\n",
    "    return (listeSuiv,coutAction)  \n",
    "\n",
    "def h(etat):\n",
    "    etatL=list(etat)\n",
    "    nb=0\n",
    "    for i in range(len(etatL)):\n",
    "        if etatL[i]==-1:\n",
    "            nb=nb+1\n",
    "    return nb/2\n",
    "\n",
    "def noeudsFilsFleches(noeud):\n",
    "    (etatCourant,cheminCourant,g,heur)=noeud\n",
    "    listeFils=[]\n",
    "    for action in actions():\n",
    "        (listeEtatSuiv,coutAction) = action(etatCourant)\n",
    "        for etat in listeEtatSuiv:\n",
    "            if not dejavu(etat,cheminCourant):\n",
    "                chemin=list(cheminCourant)\n",
    "                chemin.append(noeud)\n",
    "                listeFils.append((etat,chemin,g+coutAction,h(etat)))\n",
    "    return listeFils\n",
    "\n",
    "def afficher_solFleches(noeud):\n",
    "    print(\"Solution :\")\n",
    "    chemin=getChemin(noeud)\n",
    "    for i in chemin:\n",
    "        print(getEtat(i))\n",
    "    print(getEtat(noeud))\n",
    "    print(\"Longueur : \" + str(len(chemin)+1))"
   ]
  },
  {
   "cell_type": "code",
   "execution_count": 6,
   "metadata": {},
   "outputs": [
    {
     "data": {
      "text/plain": [
       "[((1, 1, -1, 1, -1, 1), [((-1, -1, -1, 1, -1, 1), [], 0, 0)], 1, 1.0),\n",
       " ((-1, 1, 1, 1, -1, 1), [((-1, -1, -1, 1, -1, 1), [], 0, 0)], 1, 1.0),\n",
       " ((-1, -1, 1, -1, -1, 1), [((-1, -1, -1, 1, -1, 1), [], 0, 0)], 1, 2.0),\n",
       " ((-1, -1, -1, -1, 1, 1), [((-1, -1, -1, 1, -1, 1), [], 0, 0)], 1, 2.0),\n",
       " ((-1, -1, -1, 1, 1, -1), [((-1, -1, -1, 1, -1, 1), [], 0, 0)], 1, 2.0)]"
      ]
     },
     "execution_count": 6,
     "metadata": {},
     "output_type": "execute_result"
    }
   ],
   "source": [
    "noeudsFilsFleches((initial(),[],0,0)) "
   ]
  },
  {
   "cell_type": "code",
   "execution_count": 7,
   "metadata": {},
   "outputs": [
    {
     "name": "stdout",
     "output_type": "stream",
     "text": [
      "Solution :\n",
      "(-1, -1, -1, 1, -1, 1)\n",
      "(1, 1, -1, 1, -1, 1)\n",
      "(1, 1, 1, -1, -1, 1)\n",
      "(1, 1, 1, 1, 1, 1)\n",
      "Longueur : 4\n"
     ]
    }
   ],
   "source": [
    "def bfs(noeud):\n",
    "    listSuiv=[noeud]\n",
    "    while(1):\n",
    "        firstElem = listSuiv[0]\n",
    "        if final(getEtat(firstElem)):\n",
    "            return (True,firstElem)\n",
    "        else:\n",
    "            filsSuiv = noeudsFilsFleches(firstElem)\n",
    "            listSuiv += filsSuiv\n",
    "            listSuiv = listSuiv[1:]\n",
    "            if (listSuiv == []):\n",
    "                return False\n",
    "            listSuiv.sort(key=lambda elt:elt[3], reverse=False)\n",
    "\n",
    "            \n",
    "(x,y)=bfs((initial(),[],0,0))\n",
    "afficher_solFleches(y)"
   ]
  },
  {
   "cell_type": "code",
   "execution_count": 8,
   "metadata": {},
   "outputs": [
    {
     "name": "stdout",
     "output_type": "stream",
     "text": [
      "Solution :\n",
      "(-1, -1, -1, 1, -1, 1)\n",
      "(1, 1, -1, 1, -1, 1)\n",
      "(1, 1, 1, -1, -1, 1)\n",
      "(1, 1, 1, 1, 1, 1)\n",
      "Longueur : 4\n"
     ]
    }
   ],
   "source": [
    "def AStar(noeud):\n",
    "    listSuiv=[noeud]\n",
    "    while(1):\n",
    "        firstElem = listSuiv[0]\n",
    "        if final(getEtat(firstElem)):\n",
    "            return (True,firstElem)\n",
    "        else:\n",
    "            filsSuiv = noeudsFilsFleches(firstElem)\n",
    "            listSuiv += filsSuiv\n",
    "            listSuiv = listSuiv[1:]\n",
    "            if (listSuiv == []):\n",
    "                return False\n",
    "            listSuiv.sort(key=lambda elt:elt[2]+elt[3], reverse=False)\n",
    "            \n",
    "(x,y)=AStar((initial(),[],0,0))\n",
    "afficher_solFleches(y)"
   ]
  },
  {
   "cell_type": "code",
   "execution_count": null,
   "metadata": {},
   "outputs": [],
   "source": []
  },
  {
   "cell_type": "markdown",
   "metadata": {},
   "source": [
    "# Le Taquin"
   ]
  },
  {
   "cell_type": "markdown",
   "metadata": {},
   "source": [
    "## Génération des problèmes"
   ]
  },
  {
   "cell_type": "code",
   "execution_count": 9,
   "metadata": {},
   "outputs": [
    {
     "name": "stdout",
     "output_type": "stream",
     "text": [
      "\n",
      " | 1 | 2 | 3 | \n",
      " | 4 | 5 | 6 | \n",
      " | 7 | 8 | 0 | \n"
     ]
    }
   ],
   "source": [
    "# Méthodes relatives à l'IHM\n",
    "from math import sqrt\n",
    "def getNbProblems():\n",
    "    while(1):\n",
    "        try: \n",
    "            m = int(input(\"Veuillez saisir un nombre de grille à générer : \"))\n",
    "            break\n",
    "        except:\n",
    "            print(\"Vous n'avez pas saisi une valeur numérique.\")\n",
    "    return m\n",
    "            \n",
    "def getLenProblem():\n",
    "    while(1):\n",
    "        try:             \n",
    "            n = int(input(\"Veuillez saisir un entier n, strictement supérieur à 1, tel que la grille soit de taille n*n : \"))\n",
    "            if n > 1 :\n",
    "                break\n",
    "            \n",
    "        except:\n",
    "            print(\"Vous n'avez pas saisi une valeur numérique\")\n",
    "    return n\n",
    "\n",
    "def printGrid(grid):\n",
    "    n = sqrt(len(grid))\n",
    "    grid_str = \"\"\n",
    "    for i in range(len(grid)):\n",
    "        if (i%n == 0):\n",
    "            grid_str += \"\\n | \"\n",
    "        grid_str += str(grid[i]) + \" | \"\n",
    "    print(grid_str)\n",
    "    \n",
    "printGrid([1,2,3,4,5,6,7,8,0])\n",
    "            "
   ]
  },
  {
   "cell_type": "code",
   "execution_count": 10,
   "metadata": {},
   "outputs": [
    {
     "name": "stdout",
     "output_type": "stream",
     "text": [
      "\n",
      " | 1 | 2 | 3 | \n",
      " | 4 | 5 | 6 | \n",
      " | 7 | 8 | 0 | \n"
     ]
    }
   ],
   "source": [
    "# init = [1,2,3,4,5,6,7,8,0] pour n = 3\n",
    "def init(n):\n",
    "    init = list(range(1,n*n))\n",
    "    init.append(0)\n",
    "    return init\n",
    "\n",
    "def gauche(pb, pos):\n",
    "    n = int(sqrt(len(pb)))\n",
    "    if not(pos%n == 0) :\n",
    "        pb[pos] = pb[pos-1]\n",
    "        pb[pos-1] = 0\n",
    "        pos = pos-1\n",
    "    return (pb, pos)\n",
    "\n",
    "def droite(pb, pos):\n",
    "    n = int(sqrt(len(pb)))\n",
    "    if not(pos%n == n-1) :\n",
    "        pb[pos] = pb[pos+1]\n",
    "        pb[pos+1] = 0\n",
    "        pos = pos+1\n",
    "    return (pb, pos)\n",
    "\n",
    "def haut(pb, pos):\n",
    "    n = int(sqrt(len(pb)))\n",
    "    if not(pos < n) :\n",
    "        pb[pos] = pb[pos-n]\n",
    "        pb[pos-n] = 0\n",
    "        pos  = pos-n\n",
    "    return (pb, pos)\n",
    "\n",
    "def bas(pb, pos):\n",
    "    n = int(sqrt(len(pb)))\n",
    "    if not(pos >= (n*n)-n) :\n",
    "        pb[pos] = pb[pos+n]\n",
    "        pb[pos+n] = 0\n",
    "        pos = pos+n\n",
    "    return (pb, pos)\n",
    "\n",
    "def moveHole(dep, pb, pos):\n",
    "    # [0:gauche,1:droite,2:haut,3:bas]\n",
    "    if dep == 0:\n",
    "        return gauche(pb, pos)\n",
    "    if dep == 1:\n",
    "        return droite(pb, pos)\n",
    "    if dep == 2:\n",
    "        return haut(pb, pos)\n",
    "    if dep == 3:\n",
    "        return bas(pb, pos)\n",
    "\n",
    "printGrid(init(3))"
   ]
  },
  {
   "cell_type": "code",
   "execution_count": 11,
   "metadata": {},
   "outputs": [],
   "source": [
    "import random\n",
    "\n",
    "# init = [1,2,3,4,5,6,7,8,0] pour n = 3\n",
    "def genProblem(init, n):\n",
    "    pb = init\n",
    "    pos = (n*n)-1\n",
    "    # Le nb de déplacements pourrait varier en fonction de la difficultée choisie (amélioration à apporter)\n",
    "    nb_deplacements = random.randint(15*n, 40*n)\n",
    "    for i in range(nb_deplacements):\n",
    "        # [0:gauche,1:droite,2:haut,3:bas]\n",
    "        list_dep = [0,1,2,3]\n",
    "        if pos < n :\n",
    "            list_dep.remove(2)\n",
    "        if pos >= n*n-n :\n",
    "            list_dep.remove(3)        \n",
    "        if pos%n == 0 :\n",
    "            list_dep.remove(0)\n",
    "        if pos%n == n-1 :\n",
    "            list_dep.remove(1)\n",
    "        (pb, pos) = moveHole(random.choice(list_dep), pb, pos)\n",
    "    return pb"
   ]
  },
  {
   "cell_type": "code",
   "execution_count": 12,
   "metadata": {
    "scrolled": false
   },
   "outputs": [],
   "source": [
    "def genProblems(m,n):\n",
    "    problems = []\n",
    "    for i in range(m):\n",
    "            problems.append(genProblem(init(n),n))\n",
    "    return problems"
   ]
  },
  {
   "cell_type": "code",
   "execution_count": 13,
   "metadata": {},
   "outputs": [],
   "source": [
    "def genFile():\n",
    "    m = getNbProblems()\n",
    "    n = getLenProblem()\n",
    "    name_file = str(m)+\"puzzle\"+str(n)+\"x\"+str(n)+\"problems\"\n",
    "    f = open(name_file,\"w+\")\n",
    "    l_pbs = genProblems(m, n)\n",
    "    f.write(\"Dimensions : \"+str(n)+\"x\"+str(n)+\"\\n\")\n",
    "    for pb in l_pbs:\n",
    "        f.write(str(pb)+\"\\n\")\n",
    "    print(\"\\nLes jeux de taquin ont étés créées dans le fichier \"+name_file+\"\\n\")\n",
    "    f.close() \n"
   ]
  },
  {
   "cell_type": "markdown",
   "metadata": {},
   "source": [
    "## Implentation de BFS"
   ]
  },
  {
   "cell_type": "code",
   "execution_count": 14,
   "metadata": {},
   "outputs": [],
   "source": [
    "def getChemin(noeud):\n",
    "    return noeud[1]\n",
    "\n",
    "def getEtat(noeud):\n",
    "    return noeud[0]\n",
    "\n",
    "def final(taquin):\n",
    "    final = list(range(1,len(taquin)))\n",
    "    final.append(0)\n",
    "    if taquin == final :\n",
    "        return True\n",
    "    return False\n",
    "\n",
    "def actions():\n",
    "    return [gauche, droite, haut, bas]\n",
    "\n",
    "def noeud_init():\n",
    "    while(True):                \n",
    "        try: \n",
    "            file = input(\"\\nVeuillez saisir le nom du fichier : \")\n",
    "            f = open(file, \"r\")\n",
    "            break\n",
    "        except:\n",
    "            print(\"\\nFichier introuvable.\\n\")           \n",
    "    \n",
    "    grille = []\n",
    "    n = int(f.readlines()[0].split('x')[1])\n",
    "    f.close()\n",
    "    f = open(file, \"r\")\n",
    "    for l in f.readlines():\n",
    "        grille.append(list((int(c) for c in l if c.isdigit())))\n",
    "    f.close()\n",
    "    grille = grille[1:]\n",
    "    \n",
    "    while(True):\n",
    "        try:\n",
    "            num_line = int(input(\"Veuillez saisir le numéro du jeu à résoudre (indices à partir de 0) : \"))\n",
    "            return (grille[num_line],[],0,0)\n",
    "        except:\n",
    "            print(\"\\nNuméro de ligne invalide\\n\")\n",
    "\n",
    "# CF Implémentations de init() et des actions dans la partie génération"
   ]
  },
  {
   "cell_type": "code",
   "execution_count": 15,
   "metadata": {},
   "outputs": [],
   "source": [
    "def manhattanTile(tile, posTile, n):\n",
    "    colPos = posTile % n\n",
    "    lnPos = posTile // n\n",
    "    colVal = (tile-1) % n\n",
    "    lnVal = (tile-1) // n\n",
    "    col = abs(colPos - colVal)\n",
    "    ln = abs(lnPos - lnVal)\n",
    "    distance = col + ln\n",
    "    return distance\n",
    "\n",
    "def manhattanGrid(grid,n):\n",
    "    somme = 0\n",
    "    for i in range(len(grid)):\n",
    "        if grid[i] == 0:\n",
    "            somme += manhattanTile(n*n,n*n-1,n)\n",
    "        else:\n",
    "            somme += manhattanTile(grid[i],i,n)  \n",
    "    return somme\n",
    "\n",
    "def nbTilesMalPlacees(grid, n):\n",
    "    nb = 0\n",
    "    for i in range(n*n):\n",
    "        if i != (n*n-1) :            \n",
    "            if grid[i] != i+1:\n",
    "                nb += 1\n",
    "        else:\n",
    "            if grid[i] != 0:\n",
    "                nb += 1\n",
    "    return nb\n",
    "\n",
    "def heuristiques():\n",
    "    return [manhattanGrid, nbTilesMalPlacees]\n",
    "\n",
    "def coutAction():\n",
    "    return 1\n",
    "\n",
    "def noeudsFilsTaquin(noeud, nbH):\n",
    "    (etatCourant,cheminCourant,g,heur)=noeud\n",
    "    listeFils=[]\n",
    "    pos = etatCourant.index(0)\n",
    "    coutAct = coutAction()\n",
    "    n = int(sqrt(len(etatCourant)))\n",
    "    for action in actions():\n",
    "        etatTest = etatCourant.copy()\n",
    "        (etatSuiv,p) = action(etatTest,pos)\n",
    "        if (not dejavu(etatSuiv,cheminCourant)) and etatSuiv != etatCourant :\n",
    "            chemin=list(cheminCourant)\n",
    "            chemin.append(noeud)\n",
    "            listeFils.append((etatSuiv,chemin,g+coutAct,heuristiques()[nbH](etatSuiv,n)))\n",
    "    return listeFils"
   ]
  },
  {
   "cell_type": "code",
   "execution_count": 16,
   "metadata": {},
   "outputs": [],
   "source": [
    "def choixHeuristique():\n",
    "    while(True):\n",
    "        nbH = input(\"\"\"Choisissez une heuristique pour la résolution du jeu :\n",
    "        (0) Distances de Manhattan\n",
    "        (1) Nombre de tuiles mal placées\\n\\n\"\"\")\n",
    "        if(nbH == \"0\" or nbH == \"1\"):\n",
    "            nbH = int(nbH)\n",
    "            break\n",
    "    return nbH"
   ]
  },
  {
   "cell_type": "code",
   "execution_count": 17,
   "metadata": {},
   "outputs": [],
   "source": [
    "def bfsTaquin(noeud):\n",
    "    listSuiv=[noeud]\n",
    "    nbH = choixHeuristique()\n",
    "    while(1):\n",
    "        firstElem = listSuiv[0]\n",
    "        if final(getEtat(firstElem)):\n",
    "            return (True,firstElem)\n",
    "        else:\n",
    "            filsSuiv = noeudsFilsTaquin(firstElem, nbH)\n",
    "            listSuiv += filsSuiv\n",
    "            listSuiv = listSuiv[1:]\n",
    "            if (listSuiv == []):\n",
    "                return False\n",
    "            listSuiv.sort(key=lambda elt:elt[3], reverse=False)"
   ]
  },
  {
   "cell_type": "markdown",
   "metadata": {},
   "source": [
    "## Implémentation de A*"
   ]
  },
  {
   "cell_type": "code",
   "execution_count": 18,
   "metadata": {},
   "outputs": [],
   "source": [
    "def AStarTaquin(noeud):\n",
    "    listSuiv=[noeud]\n",
    "    nbH = choixHeuristique()\n",
    "    while(1):\n",
    "        firstElem = listSuiv[0]\n",
    "        if final(getEtat(firstElem)):\n",
    "            return (True,firstElem)\n",
    "        else:\n",
    "            filsSuiv = noeudsFilsTaquin(firstElem, nbH)\n",
    "            listSuiv += filsSuiv\n",
    "            listSuiv = listSuiv[1:]\n",
    "            if (listSuiv == []):\n",
    "                return False\n",
    "            listSuiv.sort(key=lambda elt:elt[2]+elt[3], reverse=False)"
   ]
  },
  {
   "cell_type": "markdown",
   "metadata": {},
   "source": [
    "# Résolvez des grilles de taquin"
   ]
  },
  {
   "cell_type": "code",
   "execution_count": 21,
   "metadata": {},
   "outputs": [],
   "source": [
    "def taquin():\n",
    "    while(True):\n",
    "        mode = input(\"\"\"Que souhaitez-vous faire :\n",
    "        (0) Quitter \n",
    "        (1) Générer des grilles de jeu \n",
    "        (2) Résoudre une grille d'un fichier\\n\\n\"\"\")\n",
    "        if(mode == \"1\"):\n",
    "            genFile()\n",
    "        elif(mode == \"2\"):\n",
    "            noeud = noeud_init()\n",
    "            print(\"Résolution avec l'approche BFS : \")\n",
    "            print(bfsTaquin(noeud))\n",
    "            print(\"Résolution avec l'approche A* : \")\n",
    "            print(AStarTaquin(noeud))\n",
    "            \n",
    "        elif(mode == \"0\"):\n",
    "            break\n",
    "        else:\n",
    "            print(\"\\nVeuillez saisir 0, 1 ou 2\\n\")\n",
    "            pass\n",
    "        \n",
    "    "
   ]
  },
  {
   "cell_type": "code",
   "execution_count": 22,
   "metadata": {
    "scrolled": false
   },
   "outputs": [
    {
     "name": "stdout",
     "output_type": "stream",
     "text": [
      "Que souhaitez-vous faire :\n",
      "        (0) Quitter \n",
      "        (1) Générer des grilles de jeu \n",
      "        (2) Résoudre une grille d'un fichier\n",
      "\n",
      "2\n",
      "\n",
      "Veuillez saisir le nom du fichier : gh\n",
      "\n",
      "Fichier introuvable.\n",
      "\n",
      "\n",
      "Veuillez saisir le nom du fichier : 5puzzle2x2problems\n",
      "Veuillez saisir le numéro du jeu à résoudre (indices à partir de 0) : 1\n",
      "Résolution avec l'approche BFS : \n",
      "Choisissez une heuristique pour la résolution du jeu :\n",
      "        (0) Distances de Manhattan\n",
      "        (1) Nombre de tuiles mal placées1\n",
      "(True, ([1, 2, 3, 0], [([0, 1, 3, 2], [], 0, 0), ([1, 0, 3, 2], [([0, 1, 3, 2], [], 0, 0)], 1, 2)], 2, 0))\n",
      "Résolution avec l'approche A* : \n",
      "Choisissez une heuristique pour la résolution du jeu :\n",
      "        (0) Distances de Manhattan\n",
      "        (1) Nombre de tuiles mal placées1\n",
      "(True, ([1, 2, 3, 0], [([0, 1, 3, 2], [], 0, 0), ([1, 0, 3, 2], [([0, 1, 3, 2], [], 0, 0)], 1, 2)], 2, 0))\n",
      "Que souhaitez-vous faire :\n",
      "        (0) Quitter \n",
      "        (1) Générer des grilles de jeu \n",
      "        (2) Résoudre une grille d'un fichier\n",
      "\n",
      "1\n",
      "Veuillez saisir un nombre de grille à générer : 100\n",
      "Veuillez saisir un entier n, strictement supérieur à 1, tel que la grille soit de taille n*n : 3\n",
      "\n",
      "Les jeux de taquin ont étés créées dans le fichier 100puzzle3x3problems\n",
      "\n",
      "Que souhaitez-vous faire :\n",
      "        (0) Quitter \n",
      "        (1) Générer des grilles de jeu \n",
      "        (2) Résoudre une grille d'un fichier\n",
      "\n",
      "0\n"
     ]
    }
   ],
   "source": [
    "taquin()"
   ]
  },
  {
   "cell_type": "code",
   "execution_count": null,
   "metadata": {},
   "outputs": [],
   "source": []
  },
  {
   "cell_type": "code",
   "execution_count": null,
   "metadata": {},
   "outputs": [],
   "source": []
  },
  {
   "cell_type": "code",
   "execution_count": null,
   "metadata": {},
   "outputs": [],
   "source": []
  },
  {
   "cell_type": "code",
   "execution_count": null,
   "metadata": {},
   "outputs": [],
   "source": []
  },
  {
   "cell_type": "code",
   "execution_count": null,
   "metadata": {},
   "outputs": [],
   "source": []
  }
 ],
 "metadata": {
  "kernelspec": {
   "display_name": "Python 3",
   "language": "python",
   "name": "python3"
  },
  "language_info": {
   "codemirror_mode": {
    "name": "ipython",
    "version": 3
   },
   "file_extension": ".py",
   "mimetype": "text/x-python",
   "name": "python",
   "nbconvert_exporter": "python",
   "pygments_lexer": "ipython3",
   "version": "3.6.9"
  }
 },
 "nbformat": 4,
 "nbformat_minor": 2
}
